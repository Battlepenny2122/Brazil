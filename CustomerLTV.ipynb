{
 "cells": [
  {
   "attachments": {},
   "cell_type": "markdown",
   "metadata": {},
   "source": [
    "### **Predicting Customer Lifetime Value with Machine learning**"
   ]
  },
  {
   "attachments": {},
   "cell_type": "markdown",
   "metadata": {},
   "source": [
    "Learning from https://www.kaggle.com/code/dhimananubhav/e-commerce-predicting-customer-lifetime-value\n",
    "\n",
    "Customer lifetime value is a measure of total income a business can expect to bring in from a typical customer as long as they remain a client [1]. This leads to the question of how we can improve customer retention and increase a customer's life time values. There are several reasons to measure customer lifetime value:\n",
    "- We do not know what we do not measure, that is, if we don't understand how much on average a customer spends with us, we will not be able to address features regarding it\n",
    "- If we are able to retain customers for longer, then we should be able to provide more personalised services, leading to a cascasde effect where people are more likely to spend more for a better service."
   ]
  },
  {
   "attachments": {},
   "cell_type": "markdown",
   "metadata": {},
   "source": [
    "**Goals of this notebook**\n",
    "\n",
    "1. Identify repeat/active customers from one-off users\n",
    "2. Generate transaction forecasts for the customer base\n",
    "3. Create a web app which allows for an executive to play around with and to get an idea of who their customers are"
   ]
  },
  {
   "attachments": {},
   "cell_type": "markdown",
   "metadata": {},
   "source": [
    "**Steps:**\n",
    "\n",
    "- Import relevant data\n",
    "- Clean data and label the data so that we can determine who the repeat customers are\n",
    "- Explore the data a little bit more\n",
    "- Implement a classification model\n",
    "- Deploy with Streamlit and Github\n",
    " "
   ]
  },
  {
   "attachments": {},
   "cell_type": "markdown",
   "metadata": {},
   "source": [
    "#### Import the data"
   ]
  },
  {
   "cell_type": "code",
   "execution_count": null,
   "metadata": {},
   "outputs": [],
   "source": []
  }
 ],
 "metadata": {
  "kernelspec": {
   "display_name": "minimal_ds",
   "language": "python",
   "name": "python3"
  },
  "language_info": {
   "name": "python",
   "version": "3.10.9"
  },
  "orig_nbformat": 4
 },
 "nbformat": 4,
 "nbformat_minor": 2
}
